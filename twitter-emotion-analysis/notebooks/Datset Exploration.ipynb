{
 "cells": [
  {
   "cell_type": "markdown",
   "id": "7724c337-a538-4d47-a96f-896f6e9a8432",
   "metadata": {},
   "source": [
    "In this notebook we explore the [emotion dataset](https://huggingface.co/datasets/dair-ai/emotion) (doi:10.18653/v1/D18-1404) for which we want to create a classifier model. This dataset contains tweets in english language and labels them with one of the six emotions anger, fear, joy, love, sadness, and surprise. In its split variant, we have a training split of 16 000 tweets, a validation split of 2 000 tweets and a test split of 2 000 tweets."
   ]
  },
  {
   "cell_type": "markdown",
   "id": "45077442-fc98-46d6-a658-207773feeb1c",
   "metadata": {},
   "source": [
    "# Load Dataset"
   ]
  },
  {
   "cell_type": "code",
   "execution_count": 21,
   "id": "d5a298dd-2f8b-4111-b883-8912473317b5",
   "metadata": {
    "tags": []
   },
   "outputs": [],
   "source": [
    "from datasets import load_dataset\n",
    "import matplotlib.pyplot as plt\n",
    "import pandas as pd\n",
    "\n",
    "# allow for completely displaying tweets\n",
    "pd.options.display.max_colwidth = 280"
   ]
  },
  {
   "cell_type": "code",
   "execution_count": 22,
   "id": "3f8f605d-8088-4a40-9d9b-4179704212ad",
   "metadata": {
    "tags": []
   },
   "outputs": [
    {
     "data": {
      "text/plain": [
       "DatasetDict({\n",
       "    train: Dataset({\n",
       "        features: ['text', 'label'],\n",
       "        num_rows: 16000\n",
       "    })\n",
       "    validation: Dataset({\n",
       "        features: ['text', 'label'],\n",
       "        num_rows: 2000\n",
       "    })\n",
       "    test: Dataset({\n",
       "        features: ['text', 'label'],\n",
       "        num_rows: 2000\n",
       "    })\n",
       "})"
      ]
     },
     "execution_count": 22,
     "metadata": {},
     "output_type": "execute_result"
    }
   ],
   "source": [
    "emotion = load_dataset('emotion')\n",
    "emotion"
   ]
  },
  {
   "cell_type": "markdown",
   "id": "1204e077-f5c0-44d3-8e34-4804c9118f75",
   "metadata": {},
   "source": [
    "# Explore Entries"
   ]
  },
  {
   "cell_type": "markdown",
   "id": "129e4630-cedb-4a85-be58-bce2c65cc1fc",
   "metadata": {},
   "source": [
    "Here we just look into the dataset to get a feeling for it."
   ]
  },
  {
   "cell_type": "code",
   "execution_count": 23,
   "id": "684063ba-37bd-4ba6-83f5-68a43892a205",
   "metadata": {
    "tags": []
   },
   "outputs": [
    {
     "data": {
      "text/plain": [
       "{'text': Value(dtype='string', id=None),\n",
       " 'label': ClassLabel(names=['sadness', 'joy', 'love', 'anger', 'fear', 'surprise'], id=None)}"
      ]
     },
     "execution_count": 23,
     "metadata": {},
     "output_type": "execute_result"
    }
   ],
   "source": [
    "train_ds = emotion['train']\n",
    "train_ds.features"
   ]
  },
  {
   "cell_type": "code",
   "execution_count": 24,
   "id": "4fa40ed7-5e9f-472b-a8d2-bb7fe53ae6ae",
   "metadata": {
    "tags": []
   },
   "outputs": [],
   "source": [
    "label_names = train_ds.features['label'].names\n",
    "\n",
    "def label_int2str(row):\n",
    "    return emotion['train'].features['label'].int2str(row)"
   ]
  },
  {
   "cell_type": "code",
   "execution_count": 25,
   "id": "49224795-636d-4568-94f9-dd63a5f3112f",
   "metadata": {
    "tags": []
   },
   "outputs": [
    {
     "data": {
      "text/html": [
       "<div>\n",
       "<style scoped>\n",
       "    .dataframe tbody tr th:only-of-type {\n",
       "        vertical-align: middle;\n",
       "    }\n",
       "\n",
       "    .dataframe tbody tr th {\n",
       "        vertical-align: top;\n",
       "    }\n",
       "\n",
       "    .dataframe thead th {\n",
       "        text-align: right;\n",
       "    }\n",
       "</style>\n",
       "<table border=\"1\" class=\"dataframe\">\n",
       "  <thead>\n",
       "    <tr style=\"text-align: left;\">\n",
       "      <th></th>\n",
       "      <th>text</th>\n",
       "      <th>label</th>\n",
       "      <th>label_name</th>\n",
       "    </tr>\n",
       "  </thead>\n",
       "  <tbody>\n",
       "    <tr>\n",
       "      <th>0</th>\n",
       "      <td>i didnt feel humiliated</td>\n",
       "      <td>0</td>\n",
       "      <td>sadness</td>\n",
       "    </tr>\n",
       "    <tr>\n",
       "      <th>1</th>\n",
       "      <td>i can go from feeling so hopeless to so damned hopeful just from being around someone who cares and is awake</td>\n",
       "      <td>0</td>\n",
       "      <td>sadness</td>\n",
       "    </tr>\n",
       "    <tr>\n",
       "      <th>2</th>\n",
       "      <td>im grabbing a minute to post i feel greedy wrong</td>\n",
       "      <td>3</td>\n",
       "      <td>anger</td>\n",
       "    </tr>\n",
       "    <tr>\n",
       "      <th>3</th>\n",
       "      <td>i am ever feeling nostalgic about the fireplace i will know that it is still on the property</td>\n",
       "      <td>2</td>\n",
       "      <td>love</td>\n",
       "    </tr>\n",
       "    <tr>\n",
       "      <th>4</th>\n",
       "      <td>i am feeling grouchy</td>\n",
       "      <td>3</td>\n",
       "      <td>anger</td>\n",
       "    </tr>\n",
       "  </tbody>\n",
       "</table>\n",
       "</div>"
      ],
      "text/plain": [
       "  text                                                                                                           \\\n",
       "0                                                                                       i didnt feel humiliated   \n",
       "1  i can go from feeling so hopeless to so damned hopeful just from being around someone who cares and is awake   \n",
       "2                                                              im grabbing a minute to post i feel greedy wrong   \n",
       "3                  i am ever feeling nostalgic about the fireplace i will know that it is still on the property   \n",
       "4                                                                                          i am feeling grouchy   \n",
       "\n",
       "   label label_name  \n",
       "0  0      sadness    \n",
       "1  0      sadness    \n",
       "2  3        anger    \n",
       "3  2         love    \n",
       "4  3        anger    "
      ]
     },
     "execution_count": 25,
     "metadata": {},
     "output_type": "execute_result"
    }
   ],
   "source": [
    "train_ds.set_format('pandas')\n",
    "df = train_ds[:]\n",
    "df['label_name'] = df['label'].apply(label_int2str)\n",
    "df.head()"
   ]
  },
  {
   "cell_type": "code",
   "execution_count": 26,
   "id": "639e9f0b-5793-4c7a-92cb-d93ccf78e090",
   "metadata": {
    "tags": []
   },
   "outputs": [
    {
     "data": {
      "text/html": [
       "<div>\n",
       "<style scoped>\n",
       "    .dataframe tbody tr th:only-of-type {\n",
       "        vertical-align: middle;\n",
       "    }\n",
       "\n",
       "    .dataframe tbody tr th {\n",
       "        vertical-align: top;\n",
       "    }\n",
       "\n",
       "    .dataframe thead th {\n",
       "        text-align: right;\n",
       "    }\n",
       "</style>\n",
       "<table border=\"1\" class=\"dataframe\">\n",
       "  <thead>\n",
       "    <tr style=\"text-align: left;\">\n",
       "      <th></th>\n",
       "      <th>text</th>\n",
       "      <th>label</th>\n",
       "      <th>label_name</th>\n",
       "    </tr>\n",
       "  </thead>\n",
       "  <tbody>\n",
       "    <tr>\n",
       "      <th>5225</th>\n",
       "      <td>i feel which usually very few people may easily subdue the longing of ones or even</td>\n",
       "      <td>2</td>\n",
       "      <td>love</td>\n",
       "    </tr>\n",
       "    <tr>\n",
       "      <th>11610</th>\n",
       "      <td>i will probably do but for some reason i feel a bit agitated by it all</td>\n",
       "      <td>4</td>\n",
       "      <td>fear</td>\n",
       "    </tr>\n",
       "    <tr>\n",
       "      <th>2427</th>\n",
       "      <td>ive talked with her telling her that sometimes i feel shes not sincere</td>\n",
       "      <td>1</td>\n",
       "      <td>joy</td>\n",
       "    </tr>\n",
       "    <tr>\n",
       "      <th>6359</th>\n",
       "      <td>i have to care about and care for people with disabilities who are targeted by sensationalist media reports as well as at the same time feel the sorrow i do for the parents family members and community in newtown connecticut that is stunned by the events of today</td>\n",
       "      <td>5</td>\n",
       "      <td>surprise</td>\n",
       "    </tr>\n",
       "    <tr>\n",
       "      <th>8222</th>\n",
       "      <td>i always jumble words and letters and i feel like the inhalers i took back in college are the culprit for my brain being permanently damaged</td>\n",
       "      <td>0</td>\n",
       "      <td>sadness</td>\n",
       "    </tr>\n",
       "  </tbody>\n",
       "</table>\n",
       "</div>"
      ],
      "text/plain": [
       "      text                                                                                                                                                                                                                                                                      \\\n",
       "5225                                                                                                                                                                                        i feel which usually very few people may easily subdue the longing of ones or even   \n",
       "11610                                                                                                                                                                                                   i will probably do but for some reason i feel a bit agitated by it all   \n",
       "2427                                                                                                                                                                                                    ive talked with her telling her that sometimes i feel shes not sincere   \n",
       "6359   i have to care about and care for people with disabilities who are targeted by sensationalist media reports as well as at the same time feel the sorrow i do for the parents family members and community in newtown connecticut that is stunned by the events of today   \n",
       "8222                                                                                                                              i always jumble words and letters and i feel like the inhalers i took back in college are the culprit for my brain being permanently damaged   \n",
       "\n",
       "       label label_name  \n",
       "5225   2          love   \n",
       "11610  4          fear   \n",
       "2427   1           joy   \n",
       "6359   5      surprise   \n",
       "8222   0       sadness   "
      ]
     },
     "execution_count": 26,
     "metadata": {},
     "output_type": "execute_result"
    }
   ],
   "source": [
    "df.sample(5)"
   ]
  },
  {
   "cell_type": "markdown",
   "id": "973bc641-140c-49fb-b65d-27c2d464cc32",
   "metadata": {},
   "source": [
    "# Analyze Contents"
   ]
  },
  {
   "cell_type": "markdown",
   "id": "24a3d3b9-7270-4502-a898-d89a20ae54fc",
   "metadata": {},
   "source": [
    "TODO what am I doing here"
   ]
  },
  {
   "cell_type": "code",
   "execution_count": 29,
   "id": "82fbd6e7-9be4-40bd-b86b-3f5670ee243e",
   "metadata": {
    "tags": []
   },
   "outputs": [
    {
     "data": {
      "image/png": "[encoded data removed]",
      "text/plain": [
       "<Figure size 640x480 with 1 Axes>"
      ]
     },
     "metadata": {},
     "output_type": "display_data"
    }
   ],
   "source": [
    "df['label_name'].value_counts(ascending=True).plot.barh()\n",
    "plt.show()"
   ]
  },
  {
   "cell_type": "code",
   "execution_count": 33,
   "id": "f8f3580d-ad50-4755-9f5e-d4c0c471650e",
   "metadata": {
    "tags": []
   },
   "outputs": [
    {
     "data": {
      "image/png": "[encoded data removed]",
      "text/plain": [
       "<Figure size 640x480 with 1 Axes>"
      ]
     },
     "metadata": {},
     "output_type": "display_data"
    }
   ],
   "source": [
    "df['word_count'] = df['text'].str.split().apply(len)\n",
    "df.boxplot('word_count', by='label_name', showfliers=False, grid=False, color='k')\n",
    "plt.suptitle('')\n",
    "plt.xlabel('')\n",
    "plt.show()"
   ]
  },
  {
   "cell_type": "code",
   "execution_count": 35,
   "id": "8bd795a7-0332-49cf-a4ae-f8cd27fcf516",
   "metadata": {
    "tags": []
   },
   "outputs": [],
   "source": [
    "train_ds.reset_format()"
   ]
  },
  {
   "cell_type": "code",
   "execution_count": null,
   "id": "24d21366-0e79-47e0-8a4a-fecf8a4e6513",
   "metadata": {},
   "outputs": [],
   "source": []
  }
 ],
 "metadata": {
  "kernelspec": {
   "display_name": "Python 3 (ipykernel)",
   "language": "python",
   "name": "python3"
  },
  "language_info": {
   "codemirror_mode": {
    "name": "ipython",
    "version": 3
   },
   "file_extension": ".py",
   "mimetype": "text/x-python",
   "name": "python",
   "nbconvert_exporter": "python",
   "pygments_lexer": "ipython3",
   "version": "3.11.5"
  }
 },
 "nbformat": 4,
 "nbformat_minor": 5
}
