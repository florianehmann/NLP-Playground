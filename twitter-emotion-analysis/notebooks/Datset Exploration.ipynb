{
 "cells": [
  {
   "cell_type": "markdown",
   "id": "7724c337-a538-4d47-a96f-896f6e9a8432",
   "metadata": {},
   "source": [
    "In this notebook we explore the [emotion dataset](https://huggingface.co/datasets/dair-ai/emotion) (doi:10.18653/v1/D18-1404) for which we want to create a classifier model. This dataset contains tweets in english language and labels them with one of the six emotions anger, fear, joy, love, sadness, and surprise. In its split variant, we have a training split of 16 000 tweets, a validation split of 2 000 tweets and a test split of 2 000 tweets."
   ]
  },
  {
   "cell_type": "markdown",
   "id": "45077442-fc98-46d6-a658-207773feeb1c",
   "metadata": {},
   "source": [
    "# Load Dataset"
   ]
  },
  {
   "cell_type": "code",
   "execution_count": 1,
   "id": "d5a298dd-2f8b-4111-b883-8912473317b5",
   "metadata": {
    "tags": []
   },
   "outputs": [],
   "source": [
    "from datasets import load_dataset\n",
    "import matplotlib.pyplot as plt\n",
    "import pandas as pd\n",
    "\n",
    "# allow for completely displaying tweets\n",
    "pd.options.display.max_colwidth = 280"
   ]
  },
  {
   "cell_type": "code",
   "execution_count": 2,
   "id": "3f8f605d-8088-4a40-9d9b-4179704212ad",
   "metadata": {
    "tags": []
   },
   "outputs": [
    {
     "data": {
      "text/plain": [
       "DatasetDict({\n",
       "    train: Dataset({\n",
       "        features: ['text', 'label'],\n",
       "        num_rows: 16000\n",
       "    })\n",
       "    validation: Dataset({\n",
       "        features: ['text', 'label'],\n",
       "        num_rows: 2000\n",
       "    })\n",
       "    test: Dataset({\n",
       "        features: ['text', 'label'],\n",
       "        num_rows: 2000\n",
       "    })\n",
       "})"
      ]
     },
     "execution_count": 2,
     "metadata": {},
     "output_type": "execute_result"
    }
   ],
   "source": [
    "emotion = load_dataset('emotion')\n",
    "emotion"
   ]
  },
  {
   "cell_type": "markdown",
   "id": "1204e077-f5c0-44d3-8e34-4804c9118f75",
   "metadata": {},
   "source": [
    "# Explore Entries"
   ]
  },
  {
   "cell_type": "markdown",
   "id": "129e4630-cedb-4a85-be58-bce2c65cc1fc",
   "metadata": {},
   "source": [
    "Here we just look into the dataset to get a feeling for it."
   ]
  },
  {
   "cell_type": "code",
   "execution_count": 4,
   "id": "a21f0c2f-f336-4d0b-9e8a-596d00c90058",
   "metadata": {
    "tags": []
   },
   "outputs": [],
   "source": [
    "label_names = emotion['train'].features['label'].names\n",
    "\n",
    "def label_int2str(row):\n",
    "    return emotion['train'].features['label'].int2str(row)\n",
    "\n",
    "def labeled_df_from_dataset(dataset):\n",
    "    dataset.set_format('pandas')\n",
    "    \n",
    "    df = dataset[:]\n",
    "    df['label_name'] = df['label'].apply(label_int2str)\n",
    "    \n",
    "    dataset.reset_format()\n",
    "    \n",
    "    return df"
   ]
  },
  {
   "cell_type": "code",
   "execution_count": 5,
   "id": "49224795-636d-4568-94f9-dd63a5f3112f",
   "metadata": {
    "tags": []
   },
   "outputs": [
    {
     "data": {
      "text/html": [
       "<div>\n",
       "<style scoped>\n",
       "    .dataframe tbody tr th:only-of-type {\n",
       "        vertical-align: middle;\n",
       "    }\n",
       "\n",
       "    .dataframe tbody tr th {\n",
       "        vertical-align: top;\n",
       "    }\n",
       "\n",
       "    .dataframe thead th {\n",
       "        text-align: right;\n",
       "    }\n",
       "</style>\n",
       "<table border=\"1\" class=\"dataframe\">\n",
       "  <thead>\n",
       "    <tr style=\"text-align: right;\">\n",
       "      <th></th>\n",
       "      <th>text</th>\n",
       "      <th>label</th>\n",
       "      <th>label_name</th>\n",
       "    </tr>\n",
       "  </thead>\n",
       "  <tbody>\n",
       "    <tr>\n",
       "      <th>0</th>\n",
       "      <td>i didnt feel humiliated</td>\n",
       "      <td>0</td>\n",
       "      <td>sadness</td>\n",
       "    </tr>\n",
       "    <tr>\n",
       "      <th>1</th>\n",
       "      <td>i can go from feeling so hopeless to so damned hopeful just from being around someone who cares and is awake</td>\n",
       "      <td>0</td>\n",
       "      <td>sadness</td>\n",
       "    </tr>\n",
       "    <tr>\n",
       "      <th>2</th>\n",
       "      <td>im grabbing a minute to post i feel greedy wrong</td>\n",
       "      <td>3</td>\n",
       "      <td>anger</td>\n",
       "    </tr>\n",
       "    <tr>\n",
       "      <th>3</th>\n",
       "      <td>i am ever feeling nostalgic about the fireplace i will know that it is still on the property</td>\n",
       "      <td>2</td>\n",
       "      <td>love</td>\n",
       "    </tr>\n",
       "    <tr>\n",
       "      <th>4</th>\n",
       "      <td>i am feeling grouchy</td>\n",
       "      <td>3</td>\n",
       "      <td>anger</td>\n",
       "    </tr>\n",
       "  </tbody>\n",
       "</table>\n",
       "</div>"
      ],
      "text/plain": [
       "                                                                                                           text  \\\n",
       "0                                                                                       i didnt feel humiliated   \n",
       "1  i can go from feeling so hopeless to so damned hopeful just from being around someone who cares and is awake   \n",
       "2                                                              im grabbing a minute to post i feel greedy wrong   \n",
       "3                  i am ever feeling nostalgic about the fireplace i will know that it is still on the property   \n",
       "4                                                                                          i am feeling grouchy   \n",
       "\n",
       "   label label_name  \n",
       "0      0    sadness  \n",
       "1      0    sadness  \n",
       "2      3      anger  \n",
       "3      2       love  \n",
       "4      3      anger  "
      ]
     },
     "execution_count": 5,
     "metadata": {},
     "output_type": "execute_result"
    }
   ],
   "source": [
    "df = labeled_df_from_dataset(emotion['train'])\n",
    "df.head()"
   ]
  },
  {
   "cell_type": "markdown",
   "id": "b8a3b102-9f69-47f2-9c08-b2c8eb800117",
   "metadata": {},
   "source": [
    "And also look at some random entries."
   ]
  },
  {
   "cell_type": "code",
   "execution_count": 6,
   "id": "639e9f0b-5793-4c7a-92cb-d93ccf78e090",
   "metadata": {
    "tags": []
   },
   "outputs": [
    {
     "data": {
      "text/html": [
       "<div>\n",
       "<style scoped>\n",
       "    .dataframe tbody tr th:only-of-type {\n",
       "        vertical-align: middle;\n",
       "    }\n",
       "\n",
       "    .dataframe tbody tr th {\n",
       "        vertical-align: top;\n",
       "    }\n",
       "\n",
       "    .dataframe thead th {\n",
       "        text-align: right;\n",
       "    }\n",
       "</style>\n",
       "<table border=\"1\" class=\"dataframe\">\n",
       "  <thead>\n",
       "    <tr style=\"text-align: right;\">\n",
       "      <th></th>\n",
       "      <th>text</th>\n",
       "      <th>label</th>\n",
       "      <th>label_name</th>\n",
       "    </tr>\n",
       "  </thead>\n",
       "  <tbody>\n",
       "    <tr>\n",
       "      <th>8503</th>\n",
       "      <td>i don t want this to end just like i didn t want the series rock chicks to end but i feel like ka will keep on bringing us amazing stories with wonderful women and sexy men</td>\n",
       "      <td>1</td>\n",
       "      <td>joy</td>\n",
       "    </tr>\n",
       "    <tr>\n",
       "      <th>10504</th>\n",
       "      <td>i am feeling a little sarcastic today</td>\n",
       "      <td>3</td>\n",
       "      <td>anger</td>\n",
       "    </tr>\n",
       "    <tr>\n",
       "      <th>14608</th>\n",
       "      <td>i had felt kind of ick but just figured it was nerves or feeling anxious</td>\n",
       "      <td>4</td>\n",
       "      <td>fear</td>\n",
       "    </tr>\n",
       "    <tr>\n",
       "      <th>11371</th>\n",
       "      <td>i was thinking about going out to dinner but im feeling like i might not be bothered too</td>\n",
       "      <td>3</td>\n",
       "      <td>anger</td>\n",
       "    </tr>\n",
       "    <tr>\n",
       "      <th>15590</th>\n",
       "      <td>i do sometimes feel as if i am a little unsure of who i am and how independent i really am</td>\n",
       "      <td>4</td>\n",
       "      <td>fear</td>\n",
       "    </tr>\n",
       "  </tbody>\n",
       "</table>\n",
       "</div>"
      ],
      "text/plain": [
       "                                                                                                                                                                               text  \\\n",
       "8503   i don t want this to end just like i didn t want the series rock chicks to end but i feel like ka will keep on bringing us amazing stories with wonderful women and sexy men   \n",
       "10504                                                                                                                                         i am feeling a little sarcastic today   \n",
       "14608                                                                                                      i had felt kind of ick but just figured it was nerves or feeling anxious   \n",
       "11371                                                                                      i was thinking about going out to dinner but im feeling like i might not be bothered too   \n",
       "15590                                                                                    i do sometimes feel as if i am a little unsure of who i am and how independent i really am   \n",
       "\n",
       "       label label_name  \n",
       "8503       1        joy  \n",
       "10504      3      anger  \n",
       "14608      4       fear  \n",
       "11371      3      anger  \n",
       "15590      4       fear  "
      ]
     },
     "execution_count": 6,
     "metadata": {},
     "output_type": "execute_result"
    }
   ],
   "source": [
    "df.sample(5)"
   ]
  },
  {
   "cell_type": "markdown",
   "id": "973bc641-140c-49fb-b65d-27c2d464cc32",
   "metadata": {},
   "source": [
    "# Analyze Contents"
   ]
  },
  {
   "cell_type": "markdown",
   "id": "24a3d3b9-7270-4502-a898-d89a20ae54fc",
   "metadata": {},
   "source": [
    "Here we analyze the some more quantifiable properties. First we check if the dataset is balanced. We do this for all splits of the dataset, just to be sure there are no surprises down the line."
   ]
  },
  {
   "cell_type": "code",
   "execution_count": 7,
   "id": "dad663de-4305-416a-909c-74b4bffb83b4",
   "metadata": {},
   "outputs": [],
   "source": [
    "def plot_label_distribution(dataset):\n",
    "    df = labeled_df_from_dataset(dataset)\n",
    "    df['label_name'].value_counts(ascending=True).plot.barh()\n",
    "    plt.ylabel('')"
   ]
  },
  {
   "cell_type": "code",
   "execution_count": 9,
   "id": "c5e9b736-8317-47f2-8957-99b709cacec5",
   "metadata": {
    "tags": []
   },
   "outputs": [
    {
     "data": {
      "image/png": "[encoded data removed]",
      "text/plain": [
       "<Figure size 1200x400 with 3 Axes>"
      ]
     },
     "metadata": {},
     "output_type": "display_data"
    }
   ],
   "source": [
    "plt.figure(figsize=(12, 4))\n",
    "\n",
    "plt.subplot(131)\n",
    "plot_label_distribution(emotion['train'])\n",
    "plt.title('train')\n",
    "\n",
    "plt.subplot(132)\n",
    "plot_label_distribution(emotion['validation'])\n",
    "plt.title('validation')\n",
    "\n",
    "plt.subplot(133)\n",
    "plot_label_distribution(emotion['test'])\n",
    "plt.title('test')\n",
    "\n",
    "plt.tight_layout()\n",
    "plt.show()"
   ]
  },
  {
   "cell_type": "markdown",
   "id": "2c0aceff-a5cb-478e-9125-f5a6ab174d8d",
   "metadata": {},
   "source": [
    "Now we also check if there are some significant differences in the tweet lengths for some of the emotion labels."
   ]
  },
  {
   "cell_type": "code",
   "execution_count": 10,
   "id": "f8f3580d-ad50-4755-9f5e-d4c0c471650e",
   "metadata": {
    "tags": []
   },
   "outputs": [],
   "source": [
    "def plot_word_count_boxplot(dataset):\n",
    "    df = labeled_df_from_dataset(dataset)\n",
    "    df['word_count'] = df['text'].str.split().apply(len)\n",
    "    df.boxplot('word_count', by='label_name', showfliers=False, grid=False, color='k')\n",
    "    plt.suptitle('')\n",
    "    plt.xlabel('')"
   ]
  },
  {
   "cell_type": "code",
   "execution_count": 50,
   "id": "4410b597-b099-445b-b49a-ae0a3eadaad3",
   "metadata": {
    "tags": []
   },
   "outputs": [
    {
     "data": {
      "text/plain": [
       "Text(0.5, 1.0, 'test')"
      ]
     },
     "execution_count": 50,
     "metadata": {},
     "output_type": "execute_result"
    },
    {
     "data": {
      "image/png": "[encoded data removed]",
      "text/plain": [
       "<Figure size 640x480 with 1 Axes>"
      ]
     },
     "metadata": {},
     "output_type": "display_data"
    },
    {
     "data": {
      "image/png": "[encoded data removed]",
      "text/plain": [
       "<Figure size 640x480 with 1 Axes>"
      ]
     },
     "metadata": {},
     "output_type": "display_data"
    },
    {
     "data": {
      "image/png": "[encoded data removed]",
      "text/plain": [
       "<Figure size 640x480 with 1 Axes>"
      ]
     },
     "metadata": {},
     "output_type": "display_data"
    }
   ],
   "source": [
    "plot_word_count_boxplot(emotion['train'])\n",
    "plt.title('train')\n",
    "\n",
    "plot_word_count_boxplot(emotion['validation'])\n",
    "plt.title('validation')\n",
    "\n",
    "plot_word_count_boxplot(emotion['test'])\n",
    "plt.title('test')"
   ]
  },
  {
   "cell_type": "markdown",
   "id": "e4bff892-bf1e-4e6b-8eb6-d0c37927fb16",
   "metadata": {},
   "source": [
    "So the data is not balanced in the labels, but there is no significant difference in tweet lengths between label classes or splits."
   ]
  },
  {
   "cell_type": "code",
   "execution_count": null,
   "id": "1c699da1-b536-42cd-a55d-7b4d949194c9",
   "metadata": {},
   "outputs": [],
   "source": []
  }
 ],
 "metadata": {
  "kernelspec": {
   "display_name": "Python 3 (ipykernel)",
   "language": "python",
   "name": "python3"
  },
  "language_info": {
   "codemirror_mode": {
    "name": "ipython",
    "version": 3
   },
   "file_extension": ".py",
   "mimetype": "text/x-python",
   "name": "python",
   "nbconvert_exporter": "python",
   "pygments_lexer": "ipython3",
   "version": "3.11.5"
  }
 },
 "nbformat": 4,
 "nbformat_minor": 5
}
