{
 "cells": [
  {
   "cell_type": "markdown",
   "id": "279bbfa3-57b2-4e81-bcc8-0f5886787176",
   "metadata": {},
   "source": [
    "# Load the Dataset"
   ]
  },
  {
   "cell_type": "code",
   "execution_count": 46,
   "id": "7600e4ba-8f4f-4197-8927-0563016107aa",
   "metadata": {
    "tags": []
   },
   "outputs": [],
   "source": [
    "from datasets import load_dataset"
   ]
  },
  {
   "cell_type": "code",
   "execution_count": 64,
   "id": "f515ae74-50a3-4cc5-b1e9-6bc55b4bfe15",
   "metadata": {
    "tags": []
   },
   "outputs": [],
   "source": [
    "emotion = load_dataset('emotion')\n",
    "label_names = emotion['train'].features['label'].names\n",
    "label_name = {\n",
    "    f\"LABEL_{i}\": label_names[i] for i in range(len(labels))\n",
    "}"
   ]
  },
  {
   "cell_type": "markdown",
   "id": "164ef6b0-b6f8-4440-9423-24d45994c356",
   "metadata": {},
   "source": [
    "# Load the Fine-Tuned Model"
   ]
  },
  {
   "cell_type": "code",
   "execution_count": 52,
   "id": "fd748926-9908-4f48-8220-6ea188c3a1da",
   "metadata": {
    "tags": []
   },
   "outputs": [],
   "source": [
    "import os\n",
    "from transformers import AutoTokenizer, pipeline"
   ]
  },
  {
   "cell_type": "code",
   "execution_count": 54,
   "id": "7cf45750-6b47-42f0-8404-7c53a4bf5bc4",
   "metadata": {
    "tags": []
   },
   "outputs": [],
   "source": [
    "model_name = \"distilbert-base-uncased-finetuned-emotion\"\n",
    "model_dir = os.path.join(\"../models\", model_name)\n",
    "model_on_hub = \"florianehmann/\" + model_name\n",
    "\n",
    "if os.path.exists(model_dir):\n",
    "    classifier = pipeline(\"text-classification\", model=model_dir)\n",
    "    tokenizer = AutoTokenizer.from_pretrained(model_dir)\n",
    "else:\n",
    "    classifier = pipeline(\"text-classification\", model=model_on_hub)\n",
    "    tokenizer = AutoTokenizer.from_pretrained(model_on_hub)"
   ]
  },
  {
   "cell_type": "code",
   "execution_count": 55,
   "id": "24380acc-640a-4d15-9ce0-b61f76c7aaf8",
   "metadata": {
    "tags": []
   },
   "outputs": [],
   "source": [
    "def tokenize(batch):\n",
    "    return tokenizer(batch['text'], padding=True, truncation=True)"
   ]
  },
  {
   "cell_type": "code",
   "execution_count": 57,
   "id": "28765673-9fb2-402c-a31a-aae160116bcd",
   "metadata": {
    "tags": []
   },
   "outputs": [],
   "source": [
    "emotion_tokenized = emotion.map(tokenize, batched=True, batch_size=None)"
   ]
  },
  {
   "cell_type": "markdown",
   "id": "877e9fac-34f1-4a9b-8820-ce025106ed3a",
   "metadata": {},
   "source": [
    "# Analyze the Results"
   ]
  },
  {
   "cell_type": "markdown",
   "id": "e1488983-c4de-41ee-a455-cd7a0f4e23e8",
   "metadata": {},
   "source": [
    "## Determine a Consufion Matrix"
   ]
  },
  {
   "cell_type": "code",
   "execution_count": 66,
   "id": "45c29531-925d-495c-afcf-3cbf761d30f7",
   "metadata": {
    "tags": []
   },
   "outputs": [],
   "source": [
    "import pandas as pd"
   ]
  },
  {
   "cell_type": "code",
   "execution_count": 65,
   "id": "7ed05ad7-65ed-4504-9981-a4afd96a2ae3",
   "metadata": {
    "tags": []
   },
   "outputs": [],
   "source": [
    "pred = classifier.predict(emotion['validation']['text'])"
   ]
  },
  {
   "cell_type": "code",
   "execution_count": 69,
   "id": "64ce17de-8994-433b-9bc0-944ec6099e1d",
   "metadata": {
    "tags": []
   },
   "outputs": [],
   "source": [
    "pred_df = pd.DataFrame(pred)\n",
    "pred_df['label_name'] = pred_df['label'].apply(lambda l: label_name[l])"
   ]
  },
  {
   "cell_type": "code",
   "execution_count": 70,
   "id": "dcc7d59f-e1d4-4387-99fd-8597c8c78937",
   "metadata": {
    "tags": []
   },
   "outputs": [
    {
     "data": {
      "text/html": [
       "<div>\n",
       "<style scoped>\n",
       "    .dataframe tbody tr th:only-of-type {\n",
       "        vertical-align: middle;\n",
       "    }\n",
       "\n",
       "    .dataframe tbody tr th {\n",
       "        vertical-align: top;\n",
       "    }\n",
       "\n",
       "    .dataframe thead th {\n",
       "        text-align: right;\n",
       "    }\n",
       "</style>\n",
       "<table border=\"1\" class=\"dataframe\">\n",
       "  <thead>\n",
       "    <tr style=\"text-align: right;\">\n",
       "      <th></th>\n",
       "      <th>label</th>\n",
       "      <th>score</th>\n",
       "      <th>label_name</th>\n",
       "    </tr>\n",
       "  </thead>\n",
       "  <tbody>\n",
       "    <tr>\n",
       "      <th>0</th>\n",
       "      <td>LABEL_0</td>\n",
       "      <td>0.989753</td>\n",
       "      <td>sadness</td>\n",
       "    </tr>\n",
       "    <tr>\n",
       "      <th>1</th>\n",
       "      <td>LABEL_0</td>\n",
       "      <td>0.990213</td>\n",
       "      <td>sadness</td>\n",
       "    </tr>\n",
       "    <tr>\n",
       "      <th>2</th>\n",
       "      <td>LABEL_2</td>\n",
       "      <td>0.618537</td>\n",
       "      <td>love</td>\n",
       "    </tr>\n",
       "    <tr>\n",
       "      <th>3</th>\n",
       "      <td>LABEL_3</td>\n",
       "      <td>0.984676</td>\n",
       "      <td>anger</td>\n",
       "    </tr>\n",
       "    <tr>\n",
       "      <th>4</th>\n",
       "      <td>LABEL_1</td>\n",
       "      <td>0.992215</td>\n",
       "      <td>joy</td>\n",
       "    </tr>\n",
       "  </tbody>\n",
       "</table>\n",
       "</div>"
      ],
      "text/plain": [
       "     label     score label_name\n",
       "0  LABEL_0  0.989753    sadness\n",
       "1  LABEL_0  0.990213    sadness\n",
       "2  LABEL_2  0.618537       love\n",
       "3  LABEL_3  0.984676      anger\n",
       "4  LABEL_1  0.992215        joy"
      ]
     },
     "execution_count": 70,
     "metadata": {},
     "output_type": "execute_result"
    }
   ],
   "source": [
    "pred_df.head()"
   ]
  },
  {
   "cell_type": "code",
   "execution_count": null,
   "id": "6979a31f-fb68-486e-accc-504e3d1af9a8",
   "metadata": {},
   "outputs": [],
   "source": []
  }
 ],
 "metadata": {
  "kernelspec": {
   "display_name": "Python 3 (ipykernel)",
   "language": "python",
   "name": "python3"
  },
  "language_info": {
   "codemirror_mode": {
    "name": "ipython",
    "version": 3
   },
   "file_extension": ".py",
   "mimetype": "text/x-python",
   "name": "python",
   "nbconvert_exporter": "python",
   "pygments_lexer": "ipython3",
   "version": "3.11.5"
  }
 },
 "nbformat": 4,
 "nbformat_minor": 5
}
