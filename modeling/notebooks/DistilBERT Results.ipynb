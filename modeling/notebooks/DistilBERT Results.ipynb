{
 "cells": [
  {
   "cell_type": "markdown",
   "id": "9b046bc3-e7d4-4d81-8b04-fb8c4f1e0cdd",
   "metadata": {},
   "source": [
    "In this notebook we analyze the performance of our fine-tuned DistilBERT classifier."
   ]
  },
  {
   "cell_type": "markdown",
   "id": "279bbfa3-57b2-4e81-bcc8-0f5886787176",
   "metadata": {},
   "source": [
    "# Load the Dataset"
   ]
  },
  {
   "cell_type": "code",
   "execution_count": 1,
   "id": "7600e4ba-8f4f-4197-8927-0563016107aa",
   "metadata": {
    "tags": []
   },
   "outputs": [],
   "source": [
    "from datasets import load_dataset"
   ]
  },
  {
   "cell_type": "code",
   "execution_count": 2,
   "id": "f515ae74-50a3-4cc5-b1e9-6bc55b4bfe15",
   "metadata": {
    "tags": []
   },
   "outputs": [],
   "source": [
    "emotion = load_dataset('emotion')\n",
    "labels = emotion['train'].features['label'].names\n",
    "label_name = {\n",
    "    f\"LABEL_{i}\": labels[i] for i in range(len(labels))\n",
    "}\n",
    "label_index = {\n",
    "    f\"LABEL_{i}\": i for i in range(len(labels))\n",
    "}"
   ]
  },
  {
   "cell_type": "markdown",
   "id": "164ef6b0-b6f8-4440-9423-24d45994c356",
   "metadata": {},
   "source": [
    "# Load the Fine-Tuned Model"
   ]
  },
  {
   "cell_type": "code",
   "execution_count": 3,
   "id": "fd748926-9908-4f48-8220-6ea188c3a1da",
   "metadata": {
    "tags": []
   },
   "outputs": [],
   "source": [
    "import os\n",
    "from transformers import AutoTokenizer, pipeline"
   ]
  },
  {
   "cell_type": "code",
   "execution_count": 4,
   "id": "7cf45750-6b47-42f0-8404-7c53a4bf5bc4",
   "metadata": {
    "tags": []
   },
   "outputs": [],
   "source": [
    "model_name = \"distilbert-base-uncased-finetuned-emotion\"\n",
    "model_dir = os.path.join(\"../models\", model_name)\n",
    "model_on_hub = \"florianehmann/\" + model_name\n",
    "\n",
    "if os.path.exists(model_dir):\n",
    "    classifier = pipeline(\"text-classification\", model=model_dir)\n",
    "    tokenizer = AutoTokenizer.from_pretrained(model_dir)\n",
    "else:\n",
    "    classifier = pipeline(\"text-classification\", model=model_on_hub)\n",
    "    tokenizer = AutoTokenizer.from_pretrained(model_on_hub)"
   ]
  },
  {
   "cell_type": "code",
   "execution_count": 5,
   "id": "24380acc-640a-4d15-9ce0-b61f76c7aaf8",
   "metadata": {
    "tags": []
   },
   "outputs": [],
   "source": [
    "def tokenize(batch):\n",
    "    return tokenizer(batch['text'], padding=True, truncation=True)"
   ]
  },
  {
   "cell_type": "code",
   "execution_count": 6,
   "id": "28765673-9fb2-402c-a31a-aae160116bcd",
   "metadata": {
    "tags": []
   },
   "outputs": [],
   "source": [
    "emotion_tokenized = emotion.map(tokenize, batched=True, batch_size=None)"
   ]
  },
  {
   "cell_type": "markdown",
   "id": "877e9fac-34f1-4a9b-8820-ce025106ed3a",
   "metadata": {},
   "source": [
    "# Analyze the Results"
   ]
  },
  {
   "cell_type": "markdown",
   "id": "e1488983-c4de-41ee-a455-cd7a0f4e23e8",
   "metadata": {},
   "source": [
    "## Determine a Confusion Matrix"
   ]
  },
  {
   "cell_type": "code",
   "execution_count": 7,
   "id": "45c29531-925d-495c-afcf-3cbf761d30f7",
   "metadata": {
    "tags": []
   },
   "outputs": [],
   "source": [
    "import pandas as pd"
   ]
  },
  {
   "cell_type": "code",
   "execution_count": 8,
   "id": "7ed05ad7-65ed-4504-9981-a4afd96a2ae3",
   "metadata": {
    "tags": []
   },
   "outputs": [],
   "source": [
    "emotion.reset_format()\n",
    "\n",
    "pred = classifier.predict(emotion['validation']['text'])"
   ]
  },
  {
   "cell_type": "code",
   "execution_count": 9,
   "id": "64ce17de-8994-433b-9bc0-944ec6099e1d",
   "metadata": {
    "tags": []
   },
   "outputs": [],
   "source": [
    "emotion.set_format('pandas')\n",
    "\n",
    "pred_df = pd.DataFrame(pred)\n",
    "pred_df['predicted_label'] = pred_df['label'].apply(lambda l: label_index[l])\n",
    "pred_df['predicted_label_name'] = pred_df['label'].apply(lambda l: label_name[l])\n",
    "pred_df['true_label'] = emotion['validation'][:]['label']\n",
    "pred_df['true_label_name'] = emotion['validation'][:]['label'].apply(lambda i: labels[i])"
   ]
  },
  {
   "cell_type": "code",
   "execution_count": 10,
   "id": "dcc7d59f-e1d4-4387-99fd-8597c8c78937",
   "metadata": {
    "tags": []
   },
   "outputs": [
    {
     "data": {
      "text/html": [
       "<div>\n",
       "<style scoped>\n",
       "    .dataframe tbody tr th:only-of-type {\n",
       "        vertical-align: middle;\n",
       "    }\n",
       "\n",
       "    .dataframe tbody tr th {\n",
       "        vertical-align: top;\n",
       "    }\n",
       "\n",
       "    .dataframe thead th {\n",
       "        text-align: right;\n",
       "    }\n",
       "</style>\n",
       "<table border=\"1\" class=\"dataframe\">\n",
       "  <thead>\n",
       "    <tr style=\"text-align: right;\">\n",
       "      <th></th>\n",
       "      <th>label</th>\n",
       "      <th>score</th>\n",
       "      <th>predicted_label</th>\n",
       "      <th>predicted_label_name</th>\n",
       "      <th>true_label</th>\n",
       "      <th>true_label_name</th>\n",
       "    </tr>\n",
       "  </thead>\n",
       "  <tbody>\n",
       "    <tr>\n",
       "      <th>0</th>\n",
       "      <td>LABEL_0</td>\n",
       "      <td>0.989753</td>\n",
       "      <td>0</td>\n",
       "      <td>sadness</td>\n",
       "      <td>0</td>\n",
       "      <td>sadness</td>\n",
       "    </tr>\n",
       "    <tr>\n",
       "      <th>1</th>\n",
       "      <td>LABEL_0</td>\n",
       "      <td>0.990213</td>\n",
       "      <td>0</td>\n",
       "      <td>sadness</td>\n",
       "      <td>0</td>\n",
       "      <td>sadness</td>\n",
       "    </tr>\n",
       "    <tr>\n",
       "      <th>2</th>\n",
       "      <td>LABEL_2</td>\n",
       "      <td>0.618537</td>\n",
       "      <td>2</td>\n",
       "      <td>love</td>\n",
       "      <td>2</td>\n",
       "      <td>love</td>\n",
       "    </tr>\n",
       "    <tr>\n",
       "      <th>3</th>\n",
       "      <td>LABEL_3</td>\n",
       "      <td>0.984676</td>\n",
       "      <td>3</td>\n",
       "      <td>anger</td>\n",
       "      <td>3</td>\n",
       "      <td>anger</td>\n",
       "    </tr>\n",
       "    <tr>\n",
       "      <th>4</th>\n",
       "      <td>LABEL_1</td>\n",
       "      <td>0.992215</td>\n",
       "      <td>1</td>\n",
       "      <td>joy</td>\n",
       "      <td>1</td>\n",
       "      <td>joy</td>\n",
       "    </tr>\n",
       "  </tbody>\n",
       "</table>\n",
       "</div>"
      ],
      "text/plain": [
       "     label     score  predicted_label predicted_label_name  true_label  \\\n",
       "0  LABEL_0  0.989753                0              sadness           0   \n",
       "1  LABEL_0  0.990213                0              sadness           0   \n",
       "2  LABEL_2  0.618537                2                 love           2   \n",
       "3  LABEL_3  0.984676                3                anger           3   \n",
       "4  LABEL_1  0.992215                1                  joy           1   \n",
       "\n",
       "  true_label_name  \n",
       "0         sadness  \n",
       "1         sadness  \n",
       "2            love  \n",
       "3           anger  \n",
       "4             joy  "
      ]
     },
     "execution_count": 10,
     "metadata": {},
     "output_type": "execute_result"
    }
   ],
   "source": [
    "pred_df.head()"
   ]
  },
  {
   "cell_type": "code",
   "execution_count": 11,
   "id": "e4be0b49-5e48-48cc-9d6d-df3933a600b6",
   "metadata": {
    "tags": []
   },
   "outputs": [],
   "source": [
    "y_true = pred_df['true_label']\n",
    "y_pred = pred_df['predicted_label']"
   ]
  },
  {
   "cell_type": "code",
   "execution_count": 12,
   "id": "4d758e8e-5e50-4f53-9330-d2ab243d6642",
   "metadata": {
    "tags": []
   },
   "outputs": [
    {
     "data": {
      "image/png": "[encoded data removed]",
      "text/plain": [
       "<Figure size 600x600 with 1 Axes>"
      ]
     },
     "metadata": {},
     "output_type": "display_data"
    }
   ],
   "source": [
    "import matplotlib.pyplot as plt\n",
    "from sklearn.metrics import ConfusionMatrixDisplay, confusion_matrix\n",
    "\n",
    "cm = confusion_matrix(y_true, y_pred, normalize='true')\n",
    "fig, ax = plt.subplots(figsize=(6,6))\n",
    "\n",
    "disp = ConfusionMatrixDisplay(confusion_matrix=cm, display_labels=labels)\n",
    "disp.plot(cmap='Blues', values_format='.2f', ax=ax, colorbar=False)\n",
    "\n",
    "plt.show()"
   ]
  },
  {
   "cell_type": "markdown",
   "id": "f588223e-fad0-4513-8b3a-14be9776e1b9",
   "metadata": {},
   "source": [
    "The diagonal entries show that the model does pretty well on all emotions, but there are some situations in which is does worse than others. For example, the largest off-diagonal entry is 0.11 in the *love* row. This shows that 11% of the *love*-classified tweets are misclassified as *joy*. That is something we can look into in the next step.\n",
    "\n",
    "We can also see that the diagonal entry for *surprise* is the lowest out of all classes. That comes as no surprise, as surpise usually comes bundeled with a different emotion that both our model and the training data labelers can pick up on."
   ]
  },
  {
   "cell_type": "markdown",
   "id": "5f93c0c2-bccf-409f-94cf-e90897733932",
   "metadata": {},
   "source": [
    "## Look into Love-Joy Misclassification"
   ]
  },
  {
   "cell_type": "code",
   "execution_count": 13,
   "id": "1343b904-33fe-4d15-b97a-15df50d43f18",
   "metadata": {
    "tags": []
   },
   "outputs": [],
   "source": [
    "import textwrap"
   ]
  },
  {
   "cell_type": "code",
   "execution_count": 14,
   "id": "303959d4-f176-44e9-9df9-1e717af94bc4",
   "metadata": {
    "tags": []
   },
   "outputs": [],
   "source": [
    "misclassification_df = pred_df[(pred_df.true_label_name == 'love') &\n",
    "                               (pred_df.predicted_label_name == 'joy')]\n",
    "misclassification_df.insert(0, 'text', value=emotion['validation'][:]\n",
    "                                       .loc[misclassification_df.index]['text'])"
   ]
  },
  {
   "cell_type": "code",
   "execution_count": 15,
   "id": "45759ad1-6bcf-4b2c-aeda-038ff4821263",
   "metadata": {
    "tags": []
   },
   "outputs": [
    {
     "name": "stdout",
     "output_type": "stream",
     "text": [
      "> i feel my sweet boy traveling this difficult road alongside me\n",
      "\n",
      "\n",
      "> i can say is that i feel like myself when i put on a skirt heels and lipstick\n",
      "  and when i wear clothing which has come to be accepted as neutral and\n",
      "  nondescript like a t shirt and jeans i dont feel like myself\n",
      "\n",
      "\n",
      "> i feel god calling me there and if he wills it i ll be a priest for him and\n",
      "  the rest of the faithful\n",
      "\n",
      "\n",
      "> i know have no problem meeting new people and feeling accepted\n",
      "\n",
      "\n",
      "> i have had several new members tell me how comfortable they feel with how\n",
      "  accepted they are by the existing members and that is great to hear\n",
      "\n",
      "\n"
     ]
    }
   ],
   "source": [
    "for text in misclassification_df.sample(5)['text'].values:\n",
    "    wrapped_text = textwrap.fill(text, width=80, initial_indent='> ', subsequent_indent='  ')\n",
    "    print(wrapped_text, end='\\n\\n\\n')"
   ]
  },
  {
   "cell_type": "markdown",
   "id": "84d116c4-6ebe-4946-9858-80dfa09255ea",
   "metadata": {},
   "source": [
    "From these seemingly misclassified samples, we can conclude that even if the line between joy and love can be blurry sometimes, some on the samples in the validation set suffer from this problem too, as some of these tweets are clearly mislabeled.\n",
    "\n",
    "For us, that means that our model did not do as badly as we thought at first, but it also means that we likely have some mislabeld data in the training set as well, keeping our model from reaching its full potential."
   ]
  },
  {
   "cell_type": "code",
   "execution_count": null,
   "id": "c0866666-e48b-4adc-bcf3-aebe9b8f3839",
   "metadata": {},
   "outputs": [],
   "source": []
  }
 ],
 "metadata": {
  "kernelspec": {
   "display_name": "Python 3 (ipykernel)",
   "language": "python",
   "name": "python3"
  },
  "language_info": {
   "codemirror_mode": {
    "name": "ipython",
    "version": 3
   },
   "file_extension": ".py",
   "mimetype": "text/x-python",
   "name": "python",
   "nbconvert_exporter": "python",
   "pygments_lexer": "ipython3",
   "version": "3.11.6"
  }
 },
 "nbformat": 4,
 "nbformat_minor": 5
}
