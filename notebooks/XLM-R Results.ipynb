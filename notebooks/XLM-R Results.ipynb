{
 "cells": [
  {
   "cell_type": "markdown",
   "metadata": {},
   "source": [
    "In this notebook we analyze the performance of our fine-tuned XLM-RoBERTa classifier."
   ]
  },
  {
   "cell_type": "markdown",
   "metadata": {},
   "source": [
    "# Load the Dataset"
   ]
  },
  {
   "cell_type": "code",
   "execution_count": 12,
   "metadata": {},
   "outputs": [],
   "source": [
    "from datasets import load_dataset\n",
    "\n",
    "emotion = load_dataset(\"emotion\")\n",
    "label_names = emotion[\"train\"].features[\"label\"].names\n",
    "id2label = {i: l for i, l in enumerate(label_names)}\n",
    "label2id = {l: i for i, l in enumerate(label_names)}"
   ]
  },
  {
   "cell_type": "markdown",
   "metadata": {},
   "source": [
    "# Load the Fine-Tuned Model"
   ]
  },
  {
   "cell_type": "code",
   "execution_count": 6,
   "metadata": {},
   "outputs": [],
   "source": [
    "from transformers import AutoTokenizer, pipeline\n",
    "\n",
    "model_name = \"xlm-roberta-base-finetuned-emotion\"\n",
    "model_on_hub = f\"florianehmann/{model_name}\"\n",
    "\n",
    "classifier = pipeline(\"text-classification\", model=model_on_hub)\n",
    "tokenizer = AutoTokenizer.from_pretrained(model_on_hub)"
   ]
  },
  {
   "cell_type": "markdown",
   "metadata": {},
   "source": [
    "# Analyze the Results"
   ]
  },
  {
   "cell_type": "markdown",
   "metadata": {},
   "source": [
    "## Determine a Confusion Matrix"
   ]
  },
  {
   "cell_type": "code",
   "execution_count": 8,
   "metadata": {},
   "outputs": [],
   "source": [
    "import pandas as pd\n",
    "\n",
    "emotion.reset_format()\n",
    "predictions = classifier.predict(emotion[\"validation\"][\"text\"])"
   ]
  },
  {
   "cell_type": "code",
   "execution_count": 46,
   "metadata": {},
   "outputs": [],
   "source": [
    "emotion.set_format('pandas')\n",
    "\n",
    "pred_df = pd.DataFrame(predictions)\n",
    "pred_df = pred_df.rename(columns={\"label\": \"predicted_label_name\"})\n",
    "pred_df[\"predicted_label_id\"] = pred_df[\"predicted_label_name\"].apply(lambda n: label2id[n])\n",
    "pred_df[\"true_label_id\"] = emotion[\"validation\"][:][\"label\"]\n",
    "pred_df[\"true_label_name\"] = pred_df[\"true_label_id\"].apply(lambda i: id2label[i])\n",
    "\n",
    "pred_df = pred_df[pred_df.columns[[3, 2, 4, 0, 1]]]"
   ]
  },
  {
   "cell_type": "code",
   "execution_count": 47,
   "metadata": {},
   "outputs": [
    {
     "data": {
      "text/html": [
       "<div>\n",
       "<style scoped>\n",
       "    .dataframe tbody tr th:only-of-type {\n",
       "        vertical-align: middle;\n",
       "    }\n",
       "\n",
       "    .dataframe tbody tr th {\n",
       "        vertical-align: top;\n",
       "    }\n",
       "\n",
       "    .dataframe thead th {\n",
       "        text-align: right;\n",
       "    }\n",
       "</style>\n",
       "<table border=\"1\" class=\"dataframe\">\n",
       "  <thead>\n",
       "    <tr style=\"text-align: right;\">\n",
       "      <th></th>\n",
       "      <th>true_label_id</th>\n",
       "      <th>predicted_label_id</th>\n",
       "      <th>true_label_name</th>\n",
       "      <th>predicted_label_name</th>\n",
       "      <th>score</th>\n",
       "    </tr>\n",
       "  </thead>\n",
       "  <tbody>\n",
       "    <tr>\n",
       "      <th>0</th>\n",
       "      <td>0</td>\n",
       "      <td>0</td>\n",
       "      <td>sadness</td>\n",
       "      <td>sadness</td>\n",
       "      <td>0.995667</td>\n",
       "    </tr>\n",
       "    <tr>\n",
       "      <th>1</th>\n",
       "      <td>0</td>\n",
       "      <td>0</td>\n",
       "      <td>sadness</td>\n",
       "      <td>sadness</td>\n",
       "      <td>0.996707</td>\n",
       "    </tr>\n",
       "    <tr>\n",
       "      <th>2</th>\n",
       "      <td>2</td>\n",
       "      <td>2</td>\n",
       "      <td>love</td>\n",
       "      <td>love</td>\n",
       "      <td>0.766160</td>\n",
       "    </tr>\n",
       "    <tr>\n",
       "      <th>3</th>\n",
       "      <td>3</td>\n",
       "      <td>3</td>\n",
       "      <td>anger</td>\n",
       "      <td>anger</td>\n",
       "      <td>0.994905</td>\n",
       "    </tr>\n",
       "    <tr>\n",
       "      <th>4</th>\n",
       "      <td>1</td>\n",
       "      <td>1</td>\n",
       "      <td>joy</td>\n",
       "      <td>joy</td>\n",
       "      <td>0.995990</td>\n",
       "    </tr>\n",
       "  </tbody>\n",
       "</table>\n",
       "</div>"
      ],
      "text/plain": [
       "   true_label_id  predicted_label_id true_label_name predicted_label_name  \\\n",
       "0              0                   0         sadness              sadness   \n",
       "1              0                   0         sadness              sadness   \n",
       "2              2                   2            love                 love   \n",
       "3              3                   3           anger                anger   \n",
       "4              1                   1             joy                  joy   \n",
       "\n",
       "      score  \n",
       "0  0.995667  \n",
       "1  0.996707  \n",
       "2  0.766160  \n",
       "3  0.994905  \n",
       "4  0.995990  "
      ]
     },
     "execution_count": 47,
     "metadata": {},
     "output_type": "execute_result"
    }
   ],
   "source": [
    "pred_df.head(5)\n"
   ]
  },
  {
   "cell_type": "code",
   "execution_count": 49,
   "metadata": {},
   "outputs": [
    {
     "data": {
      "image/png": "[encoded data removed]",
      "text/plain": [
       "<Figure size 600x600 with 1 Axes>"
      ]
     },
     "metadata": {},
     "output_type": "display_data"
    }
   ],
   "source": [
    "import matplotlib.pyplot as plt\n",
    "from sklearn.metrics import ConfusionMatrixDisplay, confusion_matrix\n",
    "\n",
    "cm = confusion_matrix(pred_df[\"true_label_id\"], pred_df[\"predicted_label_id\"], normalize='true')\n",
    "fig, ax = plt.subplots(figsize=(6,6))\n",
    "\n",
    "disp = ConfusionMatrixDisplay(confusion_matrix=cm, display_labels=label_names)\n",
    "disp.plot(cmap='Blues', values_format='.2f', ax=ax, colorbar=False)\n",
    "\n",
    "plt.show()"
   ]
  },
  {
   "cell_type": "markdown",
   "metadata": {},
   "source": [
    "Curiously, this model does well more consistently than the fine-tuned DistilBERT model. We have accuracies (true positives) above 90% across all classes.\n",
    "\n",
    "The largest off-diagonal entries are between (true/predicted) _surprise/fear_, _love/joy_ and _joy/love_. The scores between love and joy are not that high and we know from our analysis of the performance of the fine-tuned DistilBERT model that there are some mislabled tweets in the dataset, so that result is not particularly worrying. Before we look into that, however, we can take a look into the _surprise/fear_ misclassifications."
   ]
  },
  {
   "cell_type": "markdown",
   "metadata": {},
   "source": [
    "## Look Into Surprise/Fear Misclassification"
   ]
  },
  {
   "cell_type": "code",
   "execution_count": 57,
   "metadata": {},
   "outputs": [],
   "source": [
    "misclassification_df = pred_df[(pred_df[\"true_label_name\"] == \"surprise\") &\n",
    "                               (pred_df[\"predicted_label_name\"] == \"fear\")]\n",
    "emotion.set_format(\"pandas\")\n",
    "misclassification_df.insert(0, \"text\",\n",
    "    value=emotion[\"validation\"][:]\n",
    "    .loc[misclassification_df.index][\"text\"]\n",
    ")"
   ]
  },
  {
   "cell_type": "code",
   "execution_count": 60,
   "metadata": {},
   "outputs": [
    {
     "name": "stdout",
     "output_type": "stream",
     "text": [
      "> i think it is the worst feeling it gives me the shivers and just thinking\n",
      "  about it makes my teeth feel strange\n",
      "\n",
      "\n",
      "> i go around people and i act normal but it feels strange\n",
      "\n",
      "\n",
      "> i feel really strange about this\n",
      "\n",
      "\n",
      "> i do remember my left quad starting to feel strange not hurting yet an\n",
      "  aggravating feeling about a week or two before the marathon\n",
      "\n",
      "\n",
      "> i feel a strange type of peace with this go around that i never felt with ally\n",
      "\n",
      "\n",
      "> i am feeling overwhelmed i dont feel hopeless to often but i do cycle through\n",
      "  frustration anxiety and sometimes anger that i have to go through this\n",
      "\n",
      "\n"
     ]
    }
   ],
   "source": [
    "import textwrap\n",
    "\n",
    "for text in misclassification_df['text'].values:\n",
    "    wrapped_text = textwrap.fill(text, width=80, initial_indent='> ', subsequent_indent='  ')\n",
    "    print(wrapped_text, end='\\n\\n\\n')"
   ]
  },
  {
   "cell_type": "markdown",
   "metadata": {},
   "source": [
    "I think those are mostly mislabled data again. Except for the fifth those read more like anxiety than surprise or fear."
   ]
  },
  {
   "cell_type": "code",
   "execution_count": null,
   "metadata": {},
   "outputs": [],
   "source": []
  }
 ],
 "metadata": {
  "kernelspec": {
   "display_name": "twitter-emotion",
   "language": "python",
   "name": "python3"
  },
  "language_info": {
   "codemirror_mode": {
    "name": "ipython",
    "version": 3
   },
   "file_extension": ".py",
   "mimetype": "text/x-python",
   "name": "python",
   "nbconvert_exporter": "python",
   "pygments_lexer": "ipython3",
   "version": "3.11.7"
  }
 },
 "nbformat": 4,
 "nbformat_minor": 2
}
